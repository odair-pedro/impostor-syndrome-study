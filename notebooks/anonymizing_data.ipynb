{
 "cells": [
  {
   "cell_type": "markdown",
   "source": [
    "### Anonymizing Answers Data Frame"
   ],
   "metadata": {
    "collapsed": false,
    "pycharm": {
     "name": "#%% md\n"
    }
   }
  },
  {
   "cell_type": "code",
   "execution_count": 2,
   "outputs": [
    {
     "ename": "UserWarning",
     "evalue": "no file",
     "output_type": "error",
     "traceback": [
      "\u001B[0;31m---------------------------------------------------------------------------\u001B[0m",
      "\u001B[0;31mUserWarning\u001B[0m                               Traceback (most recent call last)",
      "Input \u001B[0;32mIn [2]\u001B[0m, in \u001B[0;36m<cell line: 7>\u001B[0;34m()\u001B[0m\n\u001B[1;32m      5\u001B[0m path_ds \u001B[38;5;241m=\u001B[39m \u001B[38;5;124m'\u001B[39m\u001B[38;5;124m../datasets/answers.xlsx\u001B[39m\u001B[38;5;124m'\u001B[39m\n\u001B[1;32m      7\u001B[0m \u001B[38;5;28;01mif\u001B[39;00m \u001B[38;5;129;01mnot\u001B[39;00m exists(path_ds):\n\u001B[0;32m----> 8\u001B[0m     \u001B[38;5;28;01mraise\u001B[39;00m \u001B[38;5;167;01mUserWarning\u001B[39;00m(\u001B[38;5;124m'\u001B[39m\u001B[38;5;124mno file\u001B[39m\u001B[38;5;124m'\u001B[39m)\n\u001B[1;32m     10\u001B[0m df \u001B[38;5;241m=\u001B[39m pd\u001B[38;5;241m.\u001B[39mread_excel(path_ds)\n\u001B[1;32m     11\u001B[0m df_anonymous \u001B[38;5;241m=\u001B[39m df\u001B[38;5;241m.\u001B[39mdrop(columns\u001B[38;5;241m=\u001B[39m[\u001B[38;5;124m'\u001B[39m\u001B[38;5;124mEndereço de e-mail\u001B[39m\u001B[38;5;124m'\u001B[39m, \u001B[38;5;124m'\u001B[39m\u001B[38;5;124m1. Nome (identificação opcional)\u001B[39m\u001B[38;5;124m'\u001B[39m])\n",
      "\u001B[0;31mUserWarning\u001B[0m: no file"
     ]
    }
   ],
   "source": [
    "import pandas as pd\n",
    "from os.path import exists\n",
    "\n",
    "# Maybe when you are performing this notebook, the file \"answers.xlsx\" doesn't exist more\n",
    "path_ds = '../datasets/answers.xlsx'\n",
    "\n",
    "if not exists(path_ds):\n",
    "    raise UserWarning('no file')\n",
    "\n",
    "df = pd.read_excel(path_ds)\n",
    "df_anonymous = df.drop(columns=['Endereço de e-mail', '1. Nome (identificação opcional)'])\n",
    "df_anonymous.head()"
   ],
   "metadata": {
    "collapsed": false,
    "pycharm": {
     "name": "#%%\n"
    }
   }
  },
  {
   "cell_type": "code",
   "execution_count": null,
   "outputs": [],
   "source": [
    "## Saving anonymized data frame\n",
    "df_anonymous.to_csv('../datasets/answers.csv', index=False)"
   ],
   "metadata": {
    "collapsed": false,
    "pycharm": {
     "name": "#%%\n"
    }
   }
  },
  {
   "cell_type": "markdown",
   "source": [
    "### Converting Answers test to CSV"
   ],
   "metadata": {
    "collapsed": false,
    "pycharm": {
     "name": "#%% md\n"
    }
   }
  },
  {
   "cell_type": "code",
   "execution_count": null,
   "outputs": [],
   "source": [
    "df = pd.read_excel('../datasets/answers-test.xlsx')\n",
    "df.to_csv('../datasets/answers-test.csv', index=False)"
   ],
   "metadata": {
    "collapsed": false,
    "pycharm": {
     "name": "#%%\n"
    }
   }
  }
 ],
 "metadata": {
  "kernelspec": {
   "display_name": "Python 3",
   "language": "python",
   "name": "python3"
  },
  "language_info": {
   "codemirror_mode": {
    "name": "ipython",
    "version": 2
   },
   "file_extension": ".py",
   "mimetype": "text/x-python",
   "name": "python",
   "nbconvert_exporter": "python",
   "pygments_lexer": "ipython2",
   "version": "2.7.6"
  }
 },
 "nbformat": 4,
 "nbformat_minor": 0
}